{
 "cells": [
  {
   "cell_type": "markdown",
   "metadata": {},
   "source": [
    "##  Handwritten Digit Recognition \n",
    "### Fully Connected Deep Neural Networks with keras"
   ]
  },
  {
   "cell_type": "markdown",
   "metadata": {},
   "source": [
    "1. [Goal](#goal)  \n",
    "2. [Data](#dat)  \n",
    "3. [Packages](#packages)   \n",
    "4. [Load Data](#loaddata)    \n",
    "5. [Display Images](#plotimages)    \n",
    "6. [Preprocess data](#preprocess)  \n",
    "7. [Build Neural Network](#nn) \n",
    "8. [Model Configuration](#cong) \n",
    "9. [Model Training](#train) "
   ]
  },
  {
   "cell_type": "markdown",
   "metadata": {},
   "source": [
    "<a id='goal'></a>\n",
    "## Goal  \n",
    "Identify digit from images of handwritten single digits.  \n",
    "There are 10 digits (0 to 9) or 10 classes to predict. "
   ]
  },
  {
   "cell_type": "markdown",
   "metadata": {},
   "source": [
    "<a id='data'></a>\n",
    "\n",
    "## Data  \n",
    "MNIST dataset for handwritten digit recognition.The dataset was constructed from a number of scanned document dataset available from the National Institute of Standards and Technology (NIST). Each image is 784 pixels (28*28)"
   ]
  },
  {
   "cell_type": "markdown",
   "metadata": {},
   "source": [
    "<a id='packages'></a>\n",
    "## Packages \n",
    "\n",
    "- Keras:  It is a high-level neural networks API, written in Python and capable of running on top of TensorFlow, CNTK, or Theano. \n",
    "- TensorFlow: In order to use keras we need Tensorflow because keras uses Tensorflow."
   ]
  },
  {
   "cell_type": "markdown",
   "metadata": {},
   "source": [
    "### Install required Libraries"
   ]
  },
  {
   "cell_type": "code",
   "execution_count": 1,
   "metadata": {
    "collapsed": true
   },
   "outputs": [],
   "source": [
    "# Install below libraries if you don't have them.\n",
    "#!pip install keras\n",
    "#!pip install tensorflow"
   ]
  },
  {
   "cell_type": "markdown",
   "metadata": {},
   "source": [
    "### Import Reuired Librabries"
   ]
  },
  {
   "cell_type": "code",
   "execution_count": 2,
   "metadata": {},
   "outputs": [
    {
     "name": "stderr",
     "output_type": "stream",
     "text": [
      "Using TensorFlow backend.\n"
     ]
    }
   ],
   "source": [
    "import keras\n",
    "# Import data set mnist from Keras datasets\n",
    "from keras.datasets import mnist\n",
    "\n",
    "# We will be using sequential model to which we will be passing differnt layers \n",
    "from keras.models import Sequential\n",
    "\n",
    "# For this example we will be using Dense layer - Each neuron recieve inputs from all the neurons in the \n",
    "# previous layer, thus densely connected.\n",
    "from keras.layers import Dense\n",
    "\n",
    "# Stochastic gradient descent optimizer will help us to reduce the error.\n",
    "from keras.optimizers import SGD\n",
    "\n",
    "# To plot images\n",
    "import matplotlib.pyplot as plt\n"
   ]
  },
  {
   "cell_type": "markdown",
   "metadata": {},
   "source": [
    "<a id='loaddata'></a>\n",
    "## Load Data"
   ]
  },
  {
   "cell_type": "code",
   "execution_count": 3,
   "metadata": {
    "collapsed": true
   },
   "outputs": [],
   "source": [
    "# load data into train and test set\n",
    "(X_train, y_train), (X_test, y_test) = mnist.load_data()"
   ]
  },
  {
   "cell_type": "code",
   "execution_count": 4,
   "metadata": {},
   "outputs": [
    {
     "name": "stdout",
     "output_type": "stream",
     "text": [
      "Input Train Set (60000, 28, 28)\n",
      "Input Test Set (10000, 28, 28)\n",
      "Target Train Set (60000,)\n",
      "Target Test Set (10000,)\n"
     ]
    }
   ],
   "source": [
    "print('Input Train Set',X_train.shape)\n",
    "print('Input Test Set',X_test.shape)\n",
    "\n",
    "print('Target Train Set',y_train.shape)\n",
    "print('Target Test Set',y_test.shape)"
   ]
  },
  {
   "cell_type": "markdown",
   "metadata": {},
   "source": [
    "**Train Set:**\n",
    "We have We have 60000 differnt images of handwritten digitis from 0-9 and each image is of size (28,28)  \n",
    "**Test Set:**\n",
    "We have We have 10000 differnt images of handwritten digitis from 0-9 and each image is of size (28,28)"
   ]
  },
  {
   "cell_type": "markdown",
   "metadata": {},
   "source": [
    "<a id='plotimages'></a>\n",
    "## Display Images "
   ]
  },
  {
   "cell_type": "code",
   "execution_count": 5,
   "metadata": {},
   "outputs": [
    {
     "data": {
      "image/png": "[encoded data removed]",
      "text/plain": [
       "<matplotlib.figure.Figure at 0x2030f8452e8>"
      ]
     },
     "metadata": {},
     "output_type": "display_data"
    },
    {
     "data": {
      "image/png": "[encoded data removed]",
      "text/plain": [
       "<matplotlib.figure.Figure at 0x20318890ba8>"
      ]
     },
     "metadata": {},
     "output_type": "display_data"
    },
    {
     "data": {
      "image/png": "[encoded data removed]",
      "text/plain": [
       "<matplotlib.figure.Figure at 0x20318b7ec50>"
      ]
     },
     "metadata": {},
     "output_type": "display_data"
    },
    {
     "data": {
      "image/png": "[encoded data removed]",
      "text/plain": [
       "<matplotlib.figure.Figure at 0x203188775f8>"
      ]
     },
     "metadata": {},
     "output_type": "display_data"
    },
    {
     "data": {
      "image/png": "[encoded data removed]",
      "text/plain": [
       "<matplotlib.figure.Figure at 0x20318cb5e80>"
      ]
     },
     "metadata": {},
     "output_type": "display_data"
    }
   ],
   "source": [
    "for i in range(0,5):\n",
    "    plt.imshow(X_train[i],cmap=plt.get_cmap('gray'))\n",
    "    plt.show()"
   ]
  },
  {
   "cell_type": "markdown",
   "metadata": {},
   "source": [
    "<a id='preprocess'></a>\n",
    "## Preprocess data\n",
    "**1.Convert From 2D to 1D**    \n",
    "Converting 2D array of 28x28 dimensions into one flat array of 784 dimentions.  \n",
    "\n",
    "**2.Scaling RGB Values 0-1**    \n",
    "Usaually RGB Values are between 0-255. We will normalize them to scale 0-1. \n",
    "\n",
    "**3.One hot encoding of target feature**  \n",
    "Encode target feature using a one-hot aka one-of-K scheme. In out case K=10 each image can take value between 0-9. Suppose we have image of handwritten digit 4 then on hot encoded feature will look like. [0,0,0,0,1,0,0,0,0,0]"
   ]
  },
  {
   "cell_type": "code",
   "execution_count": 6,
   "metadata": {
    "collapsed": true
   },
   "outputs": [],
   "source": [
    "# Convert from 2D to 1D \n",
    "X_train=X_train.reshape(60000,784).astype('float32')\n",
    "X_test=X_test.reshape(10000,784).astype('float32')"
   ]
  },
  {
   "cell_type": "code",
   "execution_count": 7,
   "metadata": {
    "collapsed": true
   },
   "outputs": [],
   "source": [
    "# Convert Darkeness from 0 to 255 --> 0 to 1\n",
    "X_train /=255\n",
    "X_test/=255"
   ]
  },
  {
   "cell_type": "code",
   "execution_count": 8,
   "metadata": {
    "collapsed": true
   },
   "outputs": [],
   "source": [
    "#One Hot Encoding\n",
    "N_classes=10\n",
    "y_train=keras.utils.to_categorical(y_train,N_classes)\n",
    "y_test=keras.utils.to_categorical(y_test,N_classes)"
   ]
  },
  {
   "cell_type": "markdown",
   "metadata": {},
   "source": [
    "<a id='nn'></a>\n",
    "## Build Neural Network"
   ]
  },
  {
   "cell_type": "code",
   "execution_count": 9,
   "metadata": {
    "collapsed": true
   },
   "outputs": [],
   "source": [
    "# all layers feed into one another  i.e Sequential model\n",
    "model= Sequential()\n",
    "# Add Hidden Layer\n",
    "model.add(Dense((100),activation='relu',input_shape=(784,)))\n",
    "model.add(Dense((200),activation='relu'))\n",
    "# Add Output layer\n",
    "model.add(Dense((10),activation='softmax'))"
   ]
  },
  {
   "cell_type": "code",
   "execution_count": 10,
   "metadata": {},
   "outputs": [
    {
     "name": "stdout",
     "output_type": "stream",
     "text": [
      "_________________________________________________________________\n",
      "Layer (type)                 Output Shape              Param #   \n",
      "=================================================================\n",
      "dense_1 (Dense)              (None, 100)               78500     \n",
      "_________________________________________________________________\n",
      "dense_2 (Dense)              (None, 200)               20200     \n",
      "_________________________________________________________________\n",
      "dense_3 (Dense)              (None, 10)                2010      \n",
      "=================================================================\n",
      "Total params: 100,710\n",
      "Trainable params: 100,710\n",
      "Non-trainable params: 0\n",
      "_________________________________________________________________\n"
     ]
    }
   ],
   "source": [
    "model.summary()"
   ]
  },
  {
   "cell_type": "markdown",
   "metadata": {},
   "source": [
    "<a id='cong'></a>\n",
    "## Model Configuration"
   ]
  },
  {
   "cell_type": "code",
   "execution_count": 11,
   "metadata": {
    "collapsed": true
   },
   "outputs": [],
   "source": [
    "#model.compile(loss='mean_squared_error',optimizer=SGD(lr=0.8),metrics=['accuracy'])\n",
    "model.compile(loss='mean_squared_error',optimizer=SGD(lr=1.0),metrics=['accuracy'])"
   ]
  },
  {
   "cell_type": "code",
   "execution_count": 12,
   "metadata": {
    "collapsed": true
   },
   "outputs": [],
   "source": [
    "from keras.callbacks import TensorBoard\n",
    "tensorboard = TensorBoard(log_dir='./logs/digits',write_graph=True, write_grads=False, write_images=False, embeddings_freq=0, embeddings_layer_names=None, embeddings_metadata=None)"
   ]
  },
  {
   "cell_type": "markdown",
   "metadata": {},
   "source": [
    "<a id='train'></a>\n",
    "## Train Model"
   ]
  },
  {
   "cell_type": "code",
   "execution_count": 13,
   "metadata": {
    "scrolled": false
   },
   "outputs": [
    {
     "name": "stdout",
     "output_type": "stream",
     "text": [
      "Train on 60000 samples, validate on 10000 samples\n",
      "Epoch 1/100\n",
      "60000/60000 [==============================] - 1s - loss: 0.0319 - acc: 0.7815 - val_loss: 0.0138 - val_acc: 0.9108\n",
      "Epoch 2/100\n",
      "60000/60000 [==============================] - 1s - loss: 0.0130 - acc: 0.9158 - val_loss: 0.0115 - val_acc: 0.9246\n",
      "Epoch 3/100\n",
      "60000/60000 [==============================] - 1s - loss: 0.0108 - acc: 0.9308 - val_loss: 0.0099 - val_acc: 0.9370\n",
      "Epoch 4/100\n",
      "60000/60000 [==============================] - 2s - loss: 0.0093 - acc: 0.9404 - val_loss: 0.0092 - val_acc: 0.9416\n",
      "Epoch 5/100\n",
      "60000/60000 [==============================] - 2s - loss: 0.0083 - acc: 0.9480 - val_loss: 0.0079 - val_acc: 0.9500\n",
      "Epoch 6/100\n",
      "60000/60000 [==============================] - 2s - loss: 0.0074 - acc: 0.9538 - val_loss: 0.0074 - val_acc: 0.9526\n",
      "Epoch 7/100\n",
      "60000/60000 [==============================] - 2s - loss: 0.0067 - acc: 0.9581 - val_loss: 0.0070 - val_acc: 0.9540\n",
      "Epoch 8/100\n",
      "60000/60000 [==============================] - 2s - loss: 0.0062 - acc: 0.9616 - val_loss: 0.0064 - val_acc: 0.9580\n",
      "Epoch 9/100\n",
      "60000/60000 [==============================] - 1s - loss: 0.0057 - acc: 0.9651 - val_loss: 0.0059 - val_acc: 0.9617\n",
      "Epoch 10/100\n",
      "60000/60000 [==============================] - 1s - loss: 0.0052 - acc: 0.9682 - val_loss: 0.0057 - val_acc: 0.9639\n",
      "Epoch 11/100\n",
      "60000/60000 [==============================] - 2s - loss: 0.0049 - acc: 0.9704 - val_loss: 0.0054 - val_acc: 0.9650\n",
      "Epoch 12/100\n",
      "60000/60000 [==============================] - 1s - loss: 0.0045 - acc: 0.9723 - val_loss: 0.0053 - val_acc: 0.9668\n",
      "Epoch 13/100\n",
      "60000/60000 [==============================] - 2s - loss: 0.0042 - acc: 0.9746 - val_loss: 0.0050 - val_acc: 0.9682\n",
      "Epoch 14/100\n",
      "60000/60000 [==============================] - 2s - loss: 0.0040 - acc: 0.9768 - val_loss: 0.0054 - val_acc: 0.9645\n",
      "Epoch 15/100\n",
      "60000/60000 [==============================] - 2s - loss: 0.0037 - acc: 0.9783 - val_loss: 0.0049 - val_acc: 0.9685\n",
      "Epoch 16/100\n",
      "60000/60000 [==============================] - 2s - loss: 0.0035 - acc: 0.9792 - val_loss: 0.0048 - val_acc: 0.9699\n",
      "Epoch 17/100\n",
      "60000/60000 [==============================] - 2s - loss: 0.0033 - acc: 0.9805 - val_loss: 0.0046 - val_acc: 0.9690\n",
      "Epoch 18/100\n",
      "60000/60000 [==============================] - 2s - loss: 0.0032 - acc: 0.9822 - val_loss: 0.0045 - val_acc: 0.9711\n",
      "Epoch 19/100\n",
      "60000/60000 [==============================] - 2s - loss: 0.0030 - acc: 0.9826 - val_loss: 0.0044 - val_acc: 0.9716\n",
      "Epoch 20/100\n",
      "60000/60000 [==============================] - 2s - loss: 0.0028 - acc: 0.9837 - val_loss: 0.0045 - val_acc: 0.9703\n",
      "Epoch 21/100\n",
      "60000/60000 [==============================] - 2s - loss: 0.0027 - acc: 0.9848 - val_loss: 0.0045 - val_acc: 0.9713\n",
      "Epoch 22/100\n",
      "60000/60000 [==============================] - 2s - loss: 0.0026 - acc: 0.9854 - val_loss: 0.0042 - val_acc: 0.9725\n",
      "Epoch 23/100\n",
      "60000/60000 [==============================] - 2s - loss: 0.0025 - acc: 0.9865 - val_loss: 0.0042 - val_acc: 0.9729\n",
      "Epoch 24/100\n",
      "60000/60000 [==============================] - 2s - loss: 0.0024 - acc: 0.9868 - val_loss: 0.0042 - val_acc: 0.9708\n",
      "Epoch 25/100\n",
      "60000/60000 [==============================] - 2s - loss: 0.0022 - acc: 0.9879 - val_loss: 0.0042 - val_acc: 0.9728\n",
      "Epoch 26/100\n",
      "60000/60000 [==============================] - 2s - loss: 0.0022 - acc: 0.9883 - val_loss: 0.0040 - val_acc: 0.9730\n",
      "Epoch 27/100\n",
      "60000/60000 [==============================] - 2s - loss: 0.0021 - acc: 0.9891 - val_loss: 0.0041 - val_acc: 0.9723\n",
      "Epoch 28/100\n",
      "60000/60000 [==============================] - 2s - loss: 0.0020 - acc: 0.9896 - val_loss: 0.0040 - val_acc: 0.9747\n",
      "Epoch 29/100\n",
      "60000/60000 [==============================] - 2s - loss: 0.0019 - acc: 0.9903 - val_loss: 0.0041 - val_acc: 0.9725\n",
      "Epoch 30/100\n",
      "60000/60000 [==============================] - 2s - loss: 0.0018 - acc: 0.9907 - val_loss: 0.0040 - val_acc: 0.9744\n",
      "Epoch 31/100\n",
      "60000/60000 [==============================] - 2s - loss: 0.0018 - acc: 0.9911 - val_loss: 0.0039 - val_acc: 0.9731\n",
      "Epoch 32/100\n",
      "60000/60000 [==============================] - 2s - loss: 0.0017 - acc: 0.9912 - val_loss: 0.0038 - val_acc: 0.9744\n",
      "Epoch 33/100\n",
      "60000/60000 [==============================] - 2s - loss: 0.0016 - acc: 0.9917 - val_loss: 0.0038 - val_acc: 0.9748\n",
      "Epoch 34/100\n",
      "60000/60000 [==============================] - 2s - loss: 0.0016 - acc: 0.9922 - val_loss: 0.0039 - val_acc: 0.9739\n",
      "Epoch 35/100\n",
      "60000/60000 [==============================] - 2s - loss: 0.0015 - acc: 0.9924 - val_loss: 0.0037 - val_acc: 0.9746\n",
      "Epoch 36/100\n",
      "60000/60000 [==============================] - 2s - loss: 0.0015 - acc: 0.9928 - val_loss: 0.0037 - val_acc: 0.9763\n",
      "Epoch 37/100\n",
      "60000/60000 [==============================] - 2s - loss: 0.0014 - acc: 0.9929 - val_loss: 0.0037 - val_acc: 0.9760\n",
      "Epoch 38/100\n",
      "60000/60000 [==============================] - 2s - loss: 0.0014 - acc: 0.9934 - val_loss: 0.0037 - val_acc: 0.9751\n",
      "Epoch 39/100\n",
      "60000/60000 [==============================] - 2s - loss: 0.0013 - acc: 0.9935 - val_loss: 0.0037 - val_acc: 0.9751\n",
      "Epoch 40/100\n",
      "60000/60000 [==============================] - 2s - loss: 0.0013 - acc: 0.9938 - val_loss: 0.0036 - val_acc: 0.9759\n",
      "Epoch 41/100\n",
      "60000/60000 [==============================] - 2s - loss: 0.0012 - acc: 0.9941 - val_loss: 0.0036 - val_acc: 0.9758\n",
      "Epoch 42/100\n",
      "60000/60000 [==============================] - 2s - loss: 0.0012 - acc: 0.9942 - val_loss: 0.0036 - val_acc: 0.9766\n",
      "Epoch 43/100\n",
      "60000/60000 [==============================] - 2s - loss: 0.0011 - acc: 0.9945 - val_loss: 0.0036 - val_acc: 0.9763\n",
      "Epoch 44/100\n",
      "60000/60000 [==============================] - 2s - loss: 0.0011 - acc: 0.9944 - val_loss: 0.0037 - val_acc: 0.9756\n",
      "Epoch 45/100\n",
      "60000/60000 [==============================] - 2s - loss: 0.0011 - acc: 0.9948 - val_loss: 0.0035 - val_acc: 0.9764\n",
      "Epoch 46/100\n",
      "60000/60000 [==============================] - 2s - loss: 0.0010 - acc: 0.9950 - val_loss: 0.0036 - val_acc: 0.9760\n",
      "Epoch 47/100\n",
      "60000/60000 [==============================] - 2s - loss: 0.0010 - acc: 0.9952 - val_loss: 0.0036 - val_acc: 0.9761\n",
      "Epoch 48/100\n",
      "60000/60000 [==============================] - 2s - loss: 9.8764e-04 - acc: 0.9953 - val_loss: 0.0035 - val_acc: 0.9773\n",
      "Epoch 49/100\n",
      "60000/60000 [==============================] - 2s - loss: 9.6462e-04 - acc: 0.9954 - val_loss: 0.0036 - val_acc: 0.9768\n",
      "Epoch 50/100\n",
      "60000/60000 [==============================] - 2s - loss: 9.3617e-04 - acc: 0.9955 - val_loss: 0.0035 - val_acc: 0.9772\n",
      "Epoch 51/100\n",
      "60000/60000 [==============================] - 2s - loss: 9.1617e-04 - acc: 0.9956 - val_loss: 0.0036 - val_acc: 0.9762\n",
      "Epoch 52/100\n",
      "60000/60000 [==============================] - 2s - loss: 8.9132e-04 - acc: 0.9957 - val_loss: 0.0035 - val_acc: 0.9766\n",
      "Epoch 53/100\n",
      "60000/60000 [==============================] - 2s - loss: 8.6554e-04 - acc: 0.9957 - val_loss: 0.0036 - val_acc: 0.9759\n",
      "Epoch 54/100\n",
      "60000/60000 [==============================] - 2s - loss: 8.4173e-04 - acc: 0.9959 - val_loss: 0.0035 - val_acc: 0.9763\n",
      "Epoch 55/100\n",
      "60000/60000 [==============================] - 2s - loss: 8.1851e-04 - acc: 0.9961 - val_loss: 0.0035 - val_acc: 0.9763\n",
      "Epoch 56/100\n",
      "60000/60000 [==============================] - 2s - loss: 7.9931e-04 - acc: 0.9963 - val_loss: 0.0035 - val_acc: 0.9773\n",
      "Epoch 57/100\n",
      "60000/60000 [==============================] - 2s - loss: 7.8712e-04 - acc: 0.9963 - val_loss: 0.0035 - val_acc: 0.9776\n",
      "Epoch 58/100\n",
      "60000/60000 [==============================] - 2s - loss: 7.6554e-04 - acc: 0.9964 - val_loss: 0.0035 - val_acc: 0.9765\n",
      "Epoch 59/100\n",
      "60000/60000 [==============================] - 2s - loss: 7.4506e-04 - acc: 0.9965 - val_loss: 0.0035 - val_acc: 0.9770\n",
      "Epoch 60/100\n",
      "60000/60000 [==============================] - 2s - loss: 7.2781e-04 - acc: 0.9965 - val_loss: 0.0035 - val_acc: 0.9774\n",
      "Epoch 61/100\n",
      "60000/60000 [==============================] - 2s - loss: 7.1167e-04 - acc: 0.9966 - val_loss: 0.0035 - val_acc: 0.9774\n",
      "Epoch 62/100\n",
      "60000/60000 [==============================] - 2s - loss: 7.0370e-04 - acc: 0.9966 - val_loss: 0.0035 - val_acc: 0.9764\n",
      "Epoch 63/100\n"
     ]
    },
    {
     "name": "stdout",
     "output_type": "stream",
     "text": [
      "60000/60000 [==============================] - 1s - loss: 6.8748e-04 - acc: 0.9967 - val_loss: 0.0035 - val_acc: 0.9763\n",
      "Epoch 64/100\n",
      "60000/60000 [==============================] - 1s - loss: 6.7365e-04 - acc: 0.9967 - val_loss: 0.0034 - val_acc: 0.9780\n",
      "Epoch 65/100\n",
      "60000/60000 [==============================] - 1s - loss: 6.5870e-04 - acc: 0.9967 - val_loss: 0.0035 - val_acc: 0.9773\n",
      "Epoch 66/100\n",
      "60000/60000 [==============================] - 2s - loss: 6.5100e-04 - acc: 0.9968 - val_loss: 0.0034 - val_acc: 0.9775\n",
      "Epoch 67/100\n",
      "60000/60000 [==============================] - 2s - loss: 6.3553e-04 - acc: 0.9969 - val_loss: 0.0034 - val_acc: 0.9780\n",
      "Epoch 68/100\n",
      "60000/60000 [==============================] - 2s - loss: 6.2401e-04 - acc: 0.9969 - val_loss: 0.0034 - val_acc: 0.9781\n",
      "Epoch 69/100\n",
      "60000/60000 [==============================] - 2s - loss: 6.1551e-04 - acc: 0.9969 - val_loss: 0.0034 - val_acc: 0.9775\n",
      "Epoch 70/100\n",
      "60000/60000 [==============================] - 2s - loss: 6.0950e-04 - acc: 0.9970 - val_loss: 0.0034 - val_acc: 0.9779\n",
      "Epoch 71/100\n",
      "60000/60000 [==============================] - 2s - loss: 6.0176e-04 - acc: 0.9971 - val_loss: 0.0033 - val_acc: 0.9779\n",
      "Epoch 72/100\n",
      "60000/60000 [==============================] - 2s - loss: 5.9938e-04 - acc: 0.9970 - val_loss: 0.0034 - val_acc: 0.9783\n",
      "Epoch 73/100\n",
      "60000/60000 [==============================] - 2s - loss: 5.8318e-04 - acc: 0.9971 - val_loss: 0.0034 - val_acc: 0.9782\n",
      "Epoch 74/100\n",
      "60000/60000 [==============================] - 2s - loss: 5.7382e-04 - acc: 0.9971 - val_loss: 0.0034 - val_acc: 0.9777\n",
      "Epoch 75/100\n",
      "60000/60000 [==============================] - 2s - loss: 5.6680e-04 - acc: 0.9972 - val_loss: 0.0034 - val_acc: 0.9782\n",
      "Epoch 76/100\n",
      "60000/60000 [==============================] - 2s - loss: 5.5883e-04 - acc: 0.9972 - val_loss: 0.0035 - val_acc: 0.9766\n",
      "Epoch 77/100\n",
      "60000/60000 [==============================] - 2s - loss: 5.5208e-04 - acc: 0.9972 - val_loss: 0.0034 - val_acc: 0.9782\n",
      "Epoch 78/100\n",
      "60000/60000 [==============================] - 2s - loss: 5.4261e-04 - acc: 0.9973 - val_loss: 0.0034 - val_acc: 0.9779\n",
      "Epoch 79/100\n",
      "60000/60000 [==============================] - 2s - loss: 5.3549e-04 - acc: 0.9973 - val_loss: 0.0034 - val_acc: 0.9786\n",
      "Epoch 80/100\n",
      "60000/60000 [==============================] - 2s - loss: 5.2903e-04 - acc: 0.9973 - val_loss: 0.0035 - val_acc: 0.9772\n",
      "Epoch 81/100\n",
      "60000/60000 [==============================] - 2s - loss: 5.2414e-04 - acc: 0.9974 - val_loss: 0.0034 - val_acc: 0.9778\n",
      "Epoch 82/100\n",
      "60000/60000 [==============================] - 2s - loss: 5.1675e-04 - acc: 0.9974 - val_loss: 0.0034 - val_acc: 0.9787\n",
      "Epoch 83/100\n",
      "60000/60000 [==============================] - 1s - loss: 5.1203e-04 - acc: 0.9974 - val_loss: 0.0034 - val_acc: 0.9785\n",
      "Epoch 84/100\n",
      "60000/60000 [==============================] - 1s - loss: 5.0613e-04 - acc: 0.9974 - val_loss: 0.0034 - val_acc: 0.9782\n",
      "Epoch 85/100\n",
      "60000/60000 [==============================] - 2s - loss: 5.0255e-04 - acc: 0.9974 - val_loss: 0.0034 - val_acc: 0.9782\n",
      "Epoch 86/100\n",
      "60000/60000 [==============================] - 1s - loss: 4.9599e-04 - acc: 0.9974 - val_loss: 0.0034 - val_acc: 0.9784\n",
      "Epoch 87/100\n",
      "60000/60000 [==============================] - 2s - loss: 4.9179e-04 - acc: 0.9974 - val_loss: 0.0034 - val_acc: 0.9786\n",
      "Epoch 88/100\n",
      "60000/60000 [==============================] - 1s - loss: 4.8750e-04 - acc: 0.9975 - val_loss: 0.0034 - val_acc: 0.9784\n",
      "Epoch 89/100\n",
      "60000/60000 [==============================] - 1s - loss: 4.8323e-04 - acc: 0.9975 - val_loss: 0.0034 - val_acc: 0.9784\n",
      "Epoch 90/100\n",
      "60000/60000 [==============================] - 1s - loss: 4.8131e-04 - acc: 0.9975 - val_loss: 0.0035 - val_acc: 0.9782\n",
      "Epoch 91/100\n",
      "60000/60000 [==============================] - 1s - loss: 4.7775e-04 - acc: 0.9975 - val_loss: 0.0034 - val_acc: 0.9788\n",
      "Epoch 92/100\n",
      "60000/60000 [==============================] - 1s - loss: 4.7454e-04 - acc: 0.9975 - val_loss: 0.0034 - val_acc: 0.9788\n",
      "Epoch 93/100\n",
      "60000/60000 [==============================] - 1s - loss: 4.7079e-04 - acc: 0.9975 - val_loss: 0.0034 - val_acc: 0.9788\n",
      "Epoch 94/100\n",
      "60000/60000 [==============================] - 1s - loss: 4.6689e-04 - acc: 0.9975 - val_loss: 0.0034 - val_acc: 0.9786\n",
      "Epoch 95/100\n",
      "60000/60000 [==============================] - 1s - loss: 4.6501e-04 - acc: 0.9975 - val_loss: 0.0034 - val_acc: 0.9788\n",
      "Epoch 96/100\n",
      "60000/60000 [==============================] - 1s - loss: 4.6146e-04 - acc: 0.9976 - val_loss: 0.0034 - val_acc: 0.9786\n",
      "Epoch 97/100\n",
      "60000/60000 [==============================] - 1s - loss: 4.5926e-04 - acc: 0.9976 - val_loss: 0.0034 - val_acc: 0.9780\n",
      "Epoch 98/100\n",
      "60000/60000 [==============================] - 1s - loss: 4.5654e-04 - acc: 0.9976 - val_loss: 0.0034 - val_acc: 0.9782\n",
      "Epoch 99/100\n",
      "60000/60000 [==============================] - 1s - loss: 4.5218e-04 - acc: 0.9976 - val_loss: 0.0035 - val_acc: 0.9782\n",
      "Epoch 100/100\n",
      "60000/60000 [==============================] - 2s - loss: 4.4969e-04 - acc: 0.9976 - val_loss: 0.0034 - val_acc: 0.9787\n"
     ]
    },
    {
     "data": {
      "text/plain": [
       "<keras.callbacks.History at 0x20318c21550>"
      ]
     },
     "execution_count": 13,
     "metadata": {},
     "output_type": "execute_result"
    }
   ],
   "source": [
    "model.fit(X_train,y_train,batch_size=128,validation_data=(X_test,y_test),epochs=100,callbacks=[tensorboard])"
   ]
  }
 ],
 "metadata": {
  "kernelspec": {
   "display_name": "Python 3",
   "language": "python",
   "name": "python3"
  },
  "language_info": {
   "codemirror_mode": {
    "name": "ipython",
    "version": 3
   },
   "file_extension": ".py",
   "mimetype": "text/x-python",
   "name": "python",
   "nbconvert_exporter": "python",
   "pygments_lexer": "ipython3",
   "version": "3.6.1"
  }
 },
 "nbformat": 4,
 "nbformat_minor": 2
}
